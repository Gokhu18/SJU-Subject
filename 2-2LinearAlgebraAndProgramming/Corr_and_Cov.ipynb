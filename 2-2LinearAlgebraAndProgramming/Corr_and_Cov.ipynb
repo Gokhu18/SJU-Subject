{
 "cells": [
  {
   "cell_type": "code",
   "execution_count": 2,
   "metadata": {},
   "outputs": [],
   "source": [
    "import pandas as pd\n",
    "from pandas import DataFrame"
   ]
  },
  {
   "cell_type": "code",
   "execution_count": 3,
   "metadata": {},
   "outputs": [],
   "source": [
    "import numpy as np"
   ]
  },
  {
   "cell_type": "code",
   "execution_count": 4,
   "metadata": {},
   "outputs": [
    {
     "data": {
      "text/html": [
       "<div>\n",
       "<style scoped>\n",
       "    .dataframe tbody tr th:only-of-type {\n",
       "        vertical-align: middle;\n",
       "    }\n",
       "\n",
       "    .dataframe tbody tr th {\n",
       "        vertical-align: top;\n",
       "    }\n",
       "\n",
       "    .dataframe thead th {\n",
       "        text-align: right;\n",
       "    }\n",
       "</style>\n",
       "<table border=\"1\" class=\"dataframe\">\n",
       "  <thead>\n",
       "    <tr style=\"text-align: right;\">\n",
       "      <th></th>\n",
       "      <th>name</th>\n",
       "      <th>weight</th>\n",
       "      <th>height</th>\n",
       "      <th>GPA</th>\n",
       "      <th>linearAlgebraScore</th>\n",
       "      <th>ExpectEarnperHour</th>\n",
       "    </tr>\n",
       "  </thead>\n",
       "  <tbody>\n",
       "    <tr>\n",
       "      <th>0</th>\n",
       "      <td>태정</td>\n",
       "      <td>180.1</td>\n",
       "      <td>178.2</td>\n",
       "      <td>2.5</td>\n",
       "      <td>50</td>\n",
       "      <td>21</td>\n",
       "    </tr>\n",
       "    <tr>\n",
       "      <th>1</th>\n",
       "      <td>다현</td>\n",
       "      <td>150.2</td>\n",
       "      <td>140.9</td>\n",
       "      <td>2.2</td>\n",
       "      <td>60</td>\n",
       "      <td>17</td>\n",
       "    </tr>\n",
       "    <tr>\n",
       "      <th>2</th>\n",
       "      <td>장후</td>\n",
       "      <td>65.3</td>\n",
       "      <td>120.3</td>\n",
       "      <td>3.5</td>\n",
       "      <td>70</td>\n",
       "      <td>32</td>\n",
       "    </tr>\n",
       "    <tr>\n",
       "      <th>3</th>\n",
       "      <td>영화</td>\n",
       "      <td>75.5</td>\n",
       "      <td>130.9</td>\n",
       "      <td>0.8</td>\n",
       "      <td>10</td>\n",
       "      <td>48</td>\n",
       "    </tr>\n",
       "    <tr>\n",
       "      <th>4</th>\n",
       "      <td>창진</td>\n",
       "      <td>85.4</td>\n",
       "      <td>150.2</td>\n",
       "      <td>2.6</td>\n",
       "      <td>40</td>\n",
       "      <td>50</td>\n",
       "    </tr>\n",
       "    <tr>\n",
       "      <th>5</th>\n",
       "      <td>석호</td>\n",
       "      <td>70.5</td>\n",
       "      <td>113.5</td>\n",
       "      <td>1.8</td>\n",
       "      <td>42</td>\n",
       "      <td>42</td>\n",
       "    </tr>\n",
       "    <tr>\n",
       "      <th>6</th>\n",
       "      <td>이영렬교수님</td>\n",
       "      <td>35.5</td>\n",
       "      <td>130.5</td>\n",
       "      <td>4.1</td>\n",
       "      <td>99</td>\n",
       "      <td>72</td>\n",
       "    </tr>\n",
       "    <tr>\n",
       "      <th>7</th>\n",
       "      <td>김도년교수님</td>\n",
       "      <td>28.2</td>\n",
       "      <td>89.5</td>\n",
       "      <td>4.0</td>\n",
       "      <td>80</td>\n",
       "      <td>79</td>\n",
       "    </tr>\n",
       "    <tr>\n",
       "      <th>8</th>\n",
       "      <td>박기호교수님</td>\n",
       "      <td>18.9</td>\n",
       "      <td>65.9</td>\n",
       "      <td>3.8</td>\n",
       "      <td>73</td>\n",
       "      <td>88</td>\n",
       "    </tr>\n",
       "    <tr>\n",
       "      <th>9</th>\n",
       "      <td>나중채교수님</td>\n",
       "      <td>28.3</td>\n",
       "      <td>43.9</td>\n",
       "      <td>3.5</td>\n",
       "      <td>78</td>\n",
       "      <td>92</td>\n",
       "    </tr>\n",
       "  </tbody>\n",
       "</table>\n",
       "</div>"
      ],
      "text/plain": [
       "     name  weight  height  GPA  linearAlgebraScore  ExpectEarnperHour\n",
       "0      태정   180.1   178.2  2.5                  50                 21\n",
       "1      다현   150.2   140.9  2.2                  60                 17\n",
       "2      장후    65.3   120.3  3.5                  70                 32\n",
       "3      영화    75.5   130.9  0.8                  10                 48\n",
       "4      창진    85.4   150.2  2.6                  40                 50\n",
       "5      석호    70.5   113.5  1.8                  42                 42\n",
       "6  이영렬교수님    35.5   130.5  4.1                  99                 72\n",
       "7  김도년교수님    28.2    89.5  4.0                  80                 79\n",
       "8  박기호교수님    18.9    65.9  3.8                  73                 88\n",
       "9  나중채교수님    28.3    43.9  3.5                  78                 92"
      ]
     },
     "execution_count": 4,
     "metadata": {},
     "output_type": "execute_result"
    }
   ],
   "source": [
    "dic = {}\n",
    "dic = {'name' : ['태정', '다현', '장후', '영화', '창진', '석호', '이영렬교수님', '김도년교수님', '박기호교수님', '나중채교수님'],\n",
    "      'weight' : [180.1, 150.2, 65.3, 75.5, 85.4, 70.5, 35.5, 28.2, 18.9, 28.3],\n",
    "      'height' : [178.2, 140.9 , 120.3, 130.9,150.2, 113.5, 130.5, 89.5, 65.9, 43.9],\n",
    "      'GPA' : [2.5 , 2.2, 3.5, 0.8, 2.6, 1.8, 4.1, 4.0, 3.8, 3.5],\n",
    "      'linearAlgebraScore' : [50, 60, 70, 10, 40, 42, 99, 80, 73, 78],\n",
    "      'ExpectEarnperHour' : [21, 17, 32, 48, 50, 42, 72, 79, 88, 92]}\n",
    "\n",
    "\n",
    "data_1 = pd.DataFrame(dic)\n",
    "data_1"
   ]
  },
  {
   "cell_type": "code",
   "execution_count": 5,
   "metadata": {},
   "outputs": [],
   "source": [
    "import matplotlib.pyplot as plt"
   ]
  },
  {
   "cell_type": "code",
   "execution_count": 6,
   "metadata": {},
   "outputs": [
    {
     "data": {
      "text/plain": [
       "<matplotlib.collections.PathCollection at 0x2b30622dd30>"
      ]
     },
     "execution_count": 6,
     "metadata": {},
     "output_type": "execute_result"
    },
    {
     "data": {
      "image/png": "[encoded data removed]",
      "text/plain": [
       "<Figure size 720x504 with 1 Axes>"
      ]
     },
     "metadata": {
      "needs_background": "light"
     },
     "output_type": "display_data"
    }
   ],
   "source": [
    "plt.figure(figsize = [10,7])\n",
    "plt.scatter(data_1.linearAlgebraScore, data_1.ExpectEarnperHour)"
   ]
  },
  {
   "cell_type": "code",
   "execution_count": 7,
   "metadata": {},
   "outputs": [
    {
     "data": {
      "text/plain": [
       "<matplotlib.collections.PathCollection at 0x2b306287828>"
      ]
     },
     "execution_count": 7,
     "metadata": {},
     "output_type": "execute_result"
    },
    {
     "data": {
      "image/png": "[encoded data removed]",
      "text/plain": [
       "<Figure size 720x504 with 1 Axes>"
      ]
     },
     "metadata": {
      "needs_background": "light"
     },
     "output_type": "display_data"
    }
   ],
   "source": [
    "plt.figure(figsize = [10,7])\n",
    "plt.scatter(data_1.weight, data_1.ExpectEarnperHour)"
   ]
  },
  {
   "cell_type": "code",
   "execution_count": 8,
   "metadata": {},
   "outputs": [
    {
     "data": {
      "text/plain": [
       "<matplotlib.collections.PathCollection at 0x2b3062fd5f8>"
      ]
     },
     "execution_count": 8,
     "metadata": {},
     "output_type": "execute_result"
    },
    {
     "data": {
      "image/png": "[encoded data removed]",
      "text/plain": [
       "<Figure size 720x504 with 1 Axes>"
      ]
     },
     "metadata": {
      "needs_background": "light"
     },
     "output_type": "display_data"
    }
   ],
   "source": [
    "plt.figure(figsize = [10,7])\n",
    "plt.scatter(data_1.height, data_1.ExpectEarnperHour)"
   ]
  },
  {
   "cell_type": "code",
   "execution_count": 17,
   "metadata": {},
   "outputs": [
    {
     "data": {
      "text/plain": [
       "<matplotlib.collections.PathCollection at 0x2b308120f60>"
      ]
     },
     "execution_count": 17,
     "metadata": {},
     "output_type": "execute_result"
    },
    {
     "data": {
      "image/png": "[encoded data removed]",
      "text/plain": [
       "<Figure size 720x504 with 1 Axes>"
      ]
     },
     "metadata": {
      "needs_background": "light"
     },
     "output_type": "display_data"
    }
   ],
   "source": [
    "plt.figure(figsize = [10,7])\n",
    "plt.scatter(data_1.height, data_1.weight)"
   ]
  },
  {
   "cell_type": "code",
   "execution_count": 9,
   "metadata": {},
   "outputs": [
    {
     "data": {
      "text/plain": [
       "array([[180.1, 178.2,   2.5,  50. ,  21. ],\n",
       "       [150.2, 140.9,   2.2,  60. ,  17. ],\n",
       "       [ 65.3, 120.3,   3.5,  70. ,  32. ],\n",
       "       [ 75.5, 130.9,   0.8,  10. ,  48. ],\n",
       "       [ 85.4, 150.2,   2.6,  40. ,  50. ],\n",
       "       [ 70.5, 113.5,   1.8,  42. ,  42. ],\n",
       "       [ 35.5, 130.5,   4.1,  99. ,  72. ],\n",
       "       [ 28.2,  89.5,   4. ,  80. ,  79. ],\n",
       "       [ 18.9,  65.9,   3.8,  73. ,  88. ],\n",
       "       [ 28.3,  43.9,   3.5,  78. ,  92. ]])"
      ]
     },
     "execution_count": 9,
     "metadata": {},
     "output_type": "execute_result"
    }
   ],
   "source": [
    "data_np = data_1.drop('name', axis = 1).to_numpy()\n",
    "data_np"
   ]
  },
  {
   "cell_type": "code",
   "execution_count": 10,
   "metadata": {},
   "outputs": [
    {
     "data": {
      "text/plain": [
       "array([[106.31,  61.82,  -0.38, -10.2 , -33.1 ],\n",
       "       [ 76.41,  24.52,  -0.68,  -0.2 , -37.1 ],\n",
       "       [ -8.49,   3.92,   0.62,   9.8 , -22.1 ],\n",
       "       [  1.71,  14.52,  -2.08, -50.2 ,  -6.1 ],\n",
       "       [ 11.61,  33.82,  -0.28, -20.2 ,  -4.1 ],\n",
       "       [ -3.29,  -2.88,  -1.08, -18.2 , -12.1 ],\n",
       "       [-38.29,  14.12,   1.22,  38.8 ,  17.9 ],\n",
       "       [-45.59, -26.88,   1.12,  19.8 ,  24.9 ],\n",
       "       [-54.89, -50.48,   0.92,  12.8 ,  33.9 ],\n",
       "       [-45.49, -72.48,   0.62,  17.8 ,  37.9 ]])"
      ]
     },
     "execution_count": 10,
     "metadata": {},
     "output_type": "execute_result"
    }
   ],
   "source": [
    "mean_row = data_np.mean(axis = 0)\n",
    "mean_sub_matrix = data_np - mean_row\n",
    "mean_sub_matrix"
   ]
  },
  {
   "cell_type": "code",
   "execution_count": 11,
   "metadata": {},
   "outputs": [
    {
     "name": "stdout",
     "output_type": "stream",
     "text": [
      "E[(X-Xbar)(Y-Ybar)] : 0 0 ::: 2598.7748999999994\n",
      "E[(X-Xbar)(Y-Ybar)] : 0 1 ::: 1559.2097999999996\n",
      "E[(X-Xbar)(Y-Ybar)] : 0 2 ::: -27.7352\n",
      "E[(X-Xbar)(Y-Ybar)] : 0 3 ::: -534.3979999999999\n",
      "E[(X-Xbar)(Y-Ybar)] : 0 4 ::: -1158.9689999999998\n",
      "E[(X-Xbar)(Y-Ybar)] : 1 0 ::: 1559.2097999999996\n",
      "E[(X-Xbar)(Y-Ybar)] : 1 1 ::: 1452.4715999999999\n",
      "E[(X-Xbar)(Y-Ybar)] : 1 2 ::: -17.855399999999996\n",
      "E[(X-Xbar)(Y-Ybar)] : 1 3 ::: -387.736\n",
      "E[(X-Xbar)(Y-Ybar)] : 1 4 ::: -810.9779999999998\n",
      "E[(X-Xbar)(Y-Ybar)] : 2 0 ::: -27.7352\n",
      "E[(X-Xbar)(Y-Ybar)] : 2 1 ::: -17.855399999999996\n",
      "E[(X-Xbar)(Y-Ybar)] : 2 2 ::: 1.0535999999999999\n",
      "E[(X-Xbar)(Y-Ybar)] : 2 3 ::: 23.214\n",
      "E[(X-Xbar)(Y-Ybar)] : 2 4 ::: 15.541999999999996\n",
      "E[(X-Xbar)(Y-Ybar)] : 3 0 ::: -534.3979999999999\n",
      "E[(X-Xbar)(Y-Ybar)] : 3 1 ::: -387.736\n",
      "E[(X-Xbar)(Y-Ybar)] : 3 2 ::: 23.214\n",
      "E[(X-Xbar)(Y-Ybar)] : 3 3 ::: 583.76\n",
      "E[(X-Xbar)(Y-Ybar)] : 3 4 ::: 303.38\n",
      "E[(X-Xbar)(Y-Ybar)] : 4 0 ::: -1158.9689999999998\n",
      "E[(X-Xbar)(Y-Ybar)] : 4 1 ::: -810.9779999999998\n",
      "E[(X-Xbar)(Y-Ybar)] : 4 2 ::: 15.541999999999996\n",
      "E[(X-Xbar)(Y-Ybar)] : 4 3 ::: 303.38\n",
      "E[(X-Xbar)(Y-Ybar)] : 4 4 ::: 668.69\n"
     ]
    }
   ],
   "source": [
    "cov_li = []\n",
    "for i in range(5) :\n",
    "    for j in range(5) :\n",
    "        # print('X :',mean_sub_matrix[:,i])\n",
    "        # print('Y :',mean_sub_matrix[:,j])\n",
    "        mean = np.mean(mean_sub_matrix[:,i] * mean_sub_matrix[:,j])\n",
    "        print('E[(X-Xbar)(Y-Ybar)] :', i, j, \":::\", mean)\n",
    "        cov_li.append(mean)"
   ]
  },
  {
   "cell_type": "code",
   "execution_count": 12,
   "metadata": {},
   "outputs": [
    {
     "data": {
      "text/plain": [
       "array([[ 2.5987749e+03,  1.5592098e+03, -2.7735200e+01, -5.3439800e+02,\n",
       "        -1.1589690e+03],\n",
       "       [ 1.5592098e+03,  1.4524716e+03, -1.7855400e+01, -3.8773600e+02,\n",
       "        -8.1097800e+02],\n",
       "       [-2.7735200e+01, -1.7855400e+01,  1.0536000e+00,  2.3214000e+01,\n",
       "         1.5542000e+01],\n",
       "       [-5.3439800e+02, -3.8773600e+02,  2.3214000e+01,  5.8376000e+02,\n",
       "         3.0338000e+02],\n",
       "       [-1.1589690e+03, -8.1097800e+02,  1.5542000e+01,  3.0338000e+02,\n",
       "         6.6869000e+02]])"
      ]
     },
     "execution_count": 12,
     "metadata": {},
     "output_type": "execute_result"
    }
   ],
   "source": [
    "cov_np = np.asarray(cov_li).reshape(5,5)\n",
    "cov_np"
   ]
  },
  {
   "cell_type": "code",
   "execution_count": 13,
   "metadata": {},
   "outputs": [
    {
     "name": "stdout",
     "output_type": "stream",
     "text": [
      "E[(X-Xbar)(Y-Ybar)] / stdXY : 0 0 ::: 1.0\n",
      "E[(X-Xbar)(Y-Ybar)] / stdXY : 0 1 ::: 0.8025394671809725\n",
      "E[(X-Xbar)(Y-Ybar)] / stdXY : 0 2 ::: -0.5300405417650711\n",
      "E[(X-Xbar)(Y-Ybar)] / stdXY : 0 3 ::: -0.4338737003050942\n",
      "E[(X-Xbar)(Y-Ybar)] / stdXY : 0 4 ::: -0.8791744807739841\n",
      "E[(X-Xbar)(Y-Ybar)] / stdXY : 1 0 ::: 0.8025394671809725\n",
      "E[(X-Xbar)(Y-Ybar)] / stdXY : 1 1 ::: 1.0\n",
      "E[(X-Xbar)(Y-Ybar)] / stdXY : 1 2 ::: -0.45643388472922414\n",
      "E[(X-Xbar)(Y-Ybar)] / stdXY : 1 3 ::: -0.4210805042508905\n",
      "E[(X-Xbar)(Y-Ybar)] / stdXY : 1 4 ::: -0.8228919881324734\n",
      "E[(X-Xbar)(Y-Ybar)] / stdXY : 2 0 ::: -0.5300405417650711\n",
      "E[(X-Xbar)(Y-Ybar)] / stdXY : 2 1 ::: -0.45643388472922414\n",
      "E[(X-Xbar)(Y-Ybar)] / stdXY : 2 2 ::: 1.0000000000000002\n",
      "E[(X-Xbar)(Y-Ybar)] / stdXY : 2 3 ::: 0.9360411306145758\n",
      "E[(X-Xbar)(Y-Ybar)] / stdXY : 2 4 ::: 0.5855400552660752\n",
      "E[(X-Xbar)(Y-Ybar)] / stdXY : 3 0 ::: -0.4338737003050942\n",
      "E[(X-Xbar)(Y-Ybar)] / stdXY : 3 1 ::: -0.4210805042508905\n",
      "E[(X-Xbar)(Y-Ybar)] / stdXY : 3 2 ::: 0.9360411306145758\n",
      "E[(X-Xbar)(Y-Ybar)] / stdXY : 3 3 ::: 1.0\n",
      "E[(X-Xbar)(Y-Ybar)] / stdXY : 3 4 ::: 0.4855761709263305\n",
      "E[(X-Xbar)(Y-Ybar)] / stdXY : 4 0 ::: -0.8791744807739841\n",
      "E[(X-Xbar)(Y-Ybar)] / stdXY : 4 1 ::: -0.8228919881324734\n",
      "E[(X-Xbar)(Y-Ybar)] / stdXY : 4 2 ::: 0.5855400552660752\n",
      "E[(X-Xbar)(Y-Ybar)] / stdXY : 4 3 ::: 0.4855761709263305\n",
      "E[(X-Xbar)(Y-Ybar)] / stdXY : 4 4 ::: 1.0\n"
     ]
    }
   ],
   "source": [
    "corr_li = []\n",
    "for i in range(5) :\n",
    "    for j in range(5) :\n",
    "        # print('X :',mean_sub_matrix[:,i])\n",
    "        # print('Y :',mean_sub_matrix[:,j])\n",
    "        mean = np.mean(mean_sub_matrix[:,i] * mean_sub_matrix[:,j])\n",
    "        std_XY = np.std(data_np[:,i]) * np.std(data_np[:,j])\n",
    "        print('E[(X-Xbar)(Y-Ybar)] / stdXY :', i, j, \":::\", mean / std_XY)\n",
    "        corr_li.append(mean / std_XY)"
   ]
  },
  {
   "cell_type": "code",
   "execution_count": 14,
   "metadata": {},
   "outputs": [
    {
     "data": {
      "text/plain": [
       "array([[ 1.        ,  0.80253947, -0.53004054, -0.4338737 , -0.87917448],\n",
       "       [ 0.80253947,  1.        , -0.45643388, -0.4210805 , -0.82289199],\n",
       "       [-0.53004054, -0.45643388,  1.        ,  0.93604113,  0.58554006],\n",
       "       [-0.4338737 , -0.4210805 ,  0.93604113,  1.        ,  0.48557617],\n",
       "       [-0.87917448, -0.82289199,  0.58554006,  0.48557617,  1.        ]])"
      ]
     },
     "execution_count": 14,
     "metadata": {},
     "output_type": "execute_result"
    }
   ],
   "source": [
    "corr_np = np.asarray(corr_li).reshape(5,5)\n",
    "corr_np"
   ]
  },
  {
   "cell_type": "code",
   "execution_count": 15,
   "metadata": {},
   "outputs": [],
   "source": [
    "import seaborn as sns"
   ]
  },
  {
   "cell_type": "code",
   "execution_count": 16,
   "metadata": {},
   "outputs": [
    {
     "data": {
      "text/plain": [
       "<matplotlib.axes._subplots.AxesSubplot at 0x2b306242080>"
      ]
     },
     "execution_count": 16,
     "metadata": {},
     "output_type": "execute_result"
    },
    {
     "data": {
      "image/png": "[encoded data removed]",
      "text/plain": [
       "<Figure size 936x720 with 2 Axes>"
      ]
     },
     "metadata": {
      "needs_background": "light"
     },
     "output_type": "display_data"
    }
   ],
   "source": [
    "plt.figure(figsize = [13,10])\n",
    "sns.heatmap(corr_np, \n",
    "        xticklabels=['weight', 'height', 'GPA', 'linearAlgebraScore', 'ExpectEarnperHour'],\n",
    "        yticklabels=['weight', 'height', 'GPA', 'linearAlgebraScore', 'ExpectEarnperHour'])"
   ]
  },
  {
   "cell_type": "markdown",
   "metadata": {},
   "source": [
    "height 와 weight <br>\n",
    "gpa 와 선형대수 점수 <br>\n",
    "gpa 와 기대 수익 <br>\n",
    "선형대수 점수와 기대수익 <br>\n",
    "는 뚜렷한 양의 상관관계를 보였다.\n",
    "\n",
    "따라서, 이 수업을 열심히 들어야 한다."
   ]
  },
  {
   "cell_type": "code",
   "execution_count": null,
   "metadata": {},
   "outputs": [],
   "source": []
  }
 ],
 "metadata": {
  "kernelspec": {
   "display_name": "Python 3",
   "language": "python",
   "name": "python3"
  },
  "language_info": {
   "codemirror_mode": {
    "name": "ipython",
    "version": 3
   },
   "file_extension": ".py",
   "mimetype": "text/x-python",
   "name": "python",
   "nbconvert_exporter": "python",
   "pygments_lexer": "ipython3",
   "version": "3.6.8"
  }
 },
 "nbformat": 4,
 "nbformat_minor": 2
}
